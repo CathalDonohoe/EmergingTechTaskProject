{
 "cells": [
  {
   "cell_type": "markdown",
   "metadata": {},
   "source": [
    "# Task 1"
   ]
  },
  {
   "cell_type": "markdown",
   "metadata": {},
   "source": [
    "These are my solutions to task 1. The author is Cathal Donohoe (G00344919@gmit.ie)"
   ]
  },
  {
   "cell_type": "markdown",
   "metadata": {},
   "source": [
    "One method of doing this task is with newtons method. This is the commented out sqrt function, but this will only print the float to a few places, not to 100. Therefore, i designed the sqrt2 function below.  \n",
    "\n",
    "Firstly i declare the number 2 to be a variable. I then get the square root of this number by mulitplying it by the power of 1/2(0.5). I then quickly print it out to show that it worked correctly. I then create a googol. A googol is the large number 10 ** 100. I then mulitply the square root by a googol ** 2, this will move the value of squareroot to the left side of the decimal place to 100 places.  \n",
    "Then i use a  while loop of when an empty variable(placeholder) is not equal to googol. The placeholder is then set to the value of the google. We then use floor divison, Floor division means after performing the division, results in the lower integer to the value. I then used a bitshift on the result of the floor division. The value for each bit in the binary representation of the input value is shifted to the left the number of bit positions specified by the second argument.  \n",
    "When the while loop is done i cast the googol as a string to another variable. I then search that string  for the first instance of a '4'. This integer is the first number after the decimal place in the square root of 2, so before this integer, I insert a decimal place '.'. I then print out the edited string.\n",
    "\n",
    "References:   \n",
    "    [1] ps://www.educative.io/edpresso/floor-division (Even shows floor division in python)  \n",
    "    [2] https://stackoverflow.com/questions/4022827/insert-some-string-into-given-string-at-given-index-in-python  \n",
    "    [3] tour of Go: https://tour.golang.org/flowcontrol/8  \n",
    "    [4] http://mathforum.org/library/drmath/view/65402.html  \n",
    "    [5] http://resources.esri.com/help/9.3/arcgisengine/java/gp_toolref/spatial_analyst_tools/how_bitwise_left_shift_works.htm#:~:text=For%20each%20bit%20in%20the,farthest%20left%20bit%20is%20lost.\n",
    "    [6] https://en.wikipedia.org/wiki/Googol  \n",
    "    "
   ]
  },
  {
   "cell_type": "code",
   "execution_count": 1,
   "metadata": {},
   "outputs": [],
   "source": [
    "#def sqrt(x):\n",
    "    #\"\"\"\n",
    "    #A function to calculate the square root of a number x\n",
    "    #\"\"\"\n",
    "    #Initial guess from square root of z\n",
    "    #z = x/2\n",
    "    #Loop until we're happy with the accuracy\n",
    "    #while abs(x - (z * z)) > 0.00000001:\n",
    "        #Claculate a better guess for the square root\n",
    "    #    z -=(z*z -x) / (2*z)\n",
    "    #Return the (approximate) sqaure root of x\n",
    "    #return z\n",
    "\n",
    "def sqrt2():\n",
    "    #the number declared to a variable\n",
    "    num = 2 \n",
    "    #squares the number and sets it to a variable\n",
    "    num_sqrt = num ** 0.5\n",
    "    #prints the user input number and its square\n",
    "    print('The square root of %0.3f is %0.3f'%(num ,num_sqrt))\n",
    "\n",
    "    #create a googol(10^100)\n",
    "    googol = 10**100\n",
    "    #Mulitplying the square root by a googol**2 will move the value of squareroot to 100 places to the left side of the decimal place\n",
    "    squareNum = num *(googol**2)\n",
    "    #varaible used for accuracy\n",
    "    placeHolder = 0\n",
    "    \n",
    "    #Loop to increase accuaracy\n",
    "    while placeHolder != googol:\n",
    "            #set placeholder to be the same as googol\n",
    "            placeHolder = googol\n",
    "            #get the square root and get the floor division\n",
    "            #gets rid of the decimal\n",
    "            googol = (placeHolder+(squareNum//placeHolder)) >> 1\n",
    "\n",
    "    #cast googol as a string to a variable \n",
    "    square = str(googol)\n",
    "    #search string for 4(first number after 1 in the square root of 2)\n",
    "    index = square.find('4')\n",
    "    #when found, edit index with a deciaml point before the index\n",
    "    output_square = square[:index] + '.' + square[index:]\n",
    "    #print full string\n",
    "    print(output_square)"
   ]
  },
  {
   "cell_type": "code",
   "execution_count": 2,
   "metadata": {},
   "outputs": [
    {
     "name": "stdout",
     "output_type": "stream",
     "text": [
      "The square root of 2.000 is 1.414\n",
      "1.4142135623730950488016887242096980785696718753769480731766797379907324784621070388503875343276415727\n"
     ]
    }
   ],
   "source": [
    "sqrt2()"
   ]
  },
  {
   "cell_type": "markdown",
   "metadata": {},
   "source": [
    "# Task 2"
   ]
  },
  {
   "cell_type": "markdown",
   "metadata": {},
   "source": [
    "Use Scipy.stats to varify 24.6 as being chi squared, and calculate the associated p value  \n",
    "[1]: https://www.w3schools.com/python/python_lists.asp  \n",
    "[2]: https://www.pythoncentral.io/the-difference-between-a-list-and-an-array/#:~:text=The%20main%20difference%20between%20a,you%20can%20perform%20to%20them.&text=It%20does%20take%20an%20extra,fine%20most%20of%20the%20time.  \n",
    "[3]: https://stackoverflow.com/questions/39497519/easiest-way-to-make-data-frames-in-python-without-pandas-package  \n"
   ]
  },
  {
   "cell_type": "code",
   "execution_count": 3,
   "metadata": {},
   "outputs": [
    {
     "name": "stdout",
     "output_type": "stream",
     "text": [
      "24.6\n",
      "0.0004098425861096696\n",
      "[[ 80.53846154  80.53846154 107.38461538  80.53846154]\n",
      " [ 34.84615385  34.84615385  46.46153846  34.84615385]\n",
      " [ 34.61538462  34.61538462  46.15384615  34.61538462]]\n"
     ]
    }
   ],
   "source": [
    "import scipy.stats as stats\n",
    "\n",
    "data = [[90, 60, 104, 95], [30, 50, 51, 20], [30,40,45,35]]\n",
    "\n",
    "V, p, dof, expected = stats.chi2_contingency(data) \n",
    "print (\"%.1f\" %V)\n",
    "print (p)\n",
    "print (expected)"
   ]
  }
 ],
 "metadata": {
  "kernelspec": {
   "display_name": "Python 3",
   "language": "python",
   "name": "python3"
  },
  "language_info": {
   "codemirror_mode": {
    "name": "ipython",
    "version": 3
   },
   "file_extension": ".py",
   "mimetype": "text/x-python",
   "name": "python",
   "nbconvert_exporter": "python",
   "pygments_lexer": "ipython3",
   "version": "3.8.3"
  }
 },
 "nbformat": 4,
 "nbformat_minor": 4
}

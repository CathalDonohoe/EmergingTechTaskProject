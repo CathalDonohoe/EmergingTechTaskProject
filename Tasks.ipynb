{
 "cells": [
  {
   "cell_type": "markdown",
   "metadata": {},
   "source": [
    "# Task 1"
   ]
  },
  {
   "cell_type": "markdown",
   "metadata": {},
   "source": [
    "These are my solutions to task 1. The author is Cathal Donohoe (G00344919@gmit.ie)"
   ]
  },
  {
   "cell_type": "markdown",
   "metadata": {},
   "source": [
    "One method of doing this task is with newtons method. This is the commented out sqrt function, but this will only print the float to a few places, not to 100. Therefore, i designed the sqrt2 function below.  \n",
    "\n",
    "Firstly i declare the number 2 to be a variable. I then get the square root of this number by mulitplying it by the power of 1/2(0.5). I then quickly print it out to show that it worked correctly. I then create a googol. A googol is the large number 10 ** 100. I then mulitply the square root by a googol ** 2, this will move the value of squareroot to the left side of the decimal place to 100 places.  \n",
    "Then i use a  while loop of when an empty variable(placeholder) is not equal to googol. The placeholder is then set to the value of the google. We then use floor divison, Floor division means after performing the division, results in the lower integer to the value. I then used a bitshift on the result of the floor division. The value for each bit in the binary representation of the input value is shifted to the left the number of bit positions specified by the second argument.  \n",
    "When the while loop is done i cast the googol as a string to another variable. I then search that string  for the first instance of a '4'. This integer is the first number after the decimal place in the square root of 2, so before this integer, I insert a decimal place '.'. I then print out the edited string.\n",
    "\n",
    "References:   \n",
    "    [1] ps://www.educative.io/edpresso/floor-division (Even shows floor division in python)  \n",
    "    [2] https://stackoverflow.com/questions/4022827/insert-some-string-into-given-string-at-given-index-in-python  \n",
    "    [3] tour of Go: https://tour.golang.org/flowcontrol/8  \n",
    "    [4] http://mathforum.org/library/drmath/view/65402.html  \n",
    "        [5] http://resources.esri.com/help/9.3/arcgisengine/java/gp_toolref/spatial_analyst_tools/how_bitwise_left_shift_works.htm#:~:text=For%20each%20bit%20in%20the,farthest%20left%20bit%20is%20lost\n",
    "    [6] https://en.wikipedia.org/wiki/Googol  \n",
    "    "
   ]
  },
  {
   "cell_type": "code",
   "execution_count": 174,
   "metadata": {},
   "outputs": [],
   "source": [
    "#def sqrt(x):\n",
    "    #\"\"\"\n",
    "    #A function to calculate the square root of a number x\n",
    "    #\"\"\"\n",
    "    #Initial guess from square root of z\n",
    "    #z = x/2\n",
    "    #Loop until we're happy with the accuracy\n",
    "    #while abs(x - (z * z)) > 0.00000001:\n",
    "        #Claculate a better guess for the square root\n",
    "    #    z -=(z*z -x) / (2*z)\n",
    "    #Return the (approximate) sqaure root of x\n",
    "    #return z\n",
    "\n",
    "def sqrt2():\n",
    "    #the number declared to a variable\n",
    "    num = 2 \n",
    "    #squares the number and sets it to a variable\n",
    "    num_sqrt = num ** 0.5\n",
    "    #prints the user input number and its square\n",
    "    print('The square root of %0.3f is %0.3f'%(num ,num_sqrt))\n",
    "\n",
    "    #create a googol(10^100)\n",
    "    googol = 10**100\n",
    "    #Mulitplying the square root by a googol**2 will move the value of squareroot to 100 places to the left side of the decimal place\n",
    "    squareNum = num *(googol**2)\n",
    "    #varaible used for accuracy\n",
    "    placeHolder = 0\n",
    "    \n",
    "    #Loop to increase accuaracy\n",
    "    while placeHolder != googol:\n",
    "            #set placeholder to be the same as googol\n",
    "            placeHolder = googol\n",
    "            #get the square root and get the floor division\n",
    "            #gets rid of the decimal\n",
    "            googol = (placeHolder+(squareNum//placeHolder)) >> 1\n",
    "\n",
    "    #cast googol as a string to a variable \n",
    "    square = str(googol)\n",
    "    #search string for 4(first number after 1 in the square root of 2)\n",
    "    index = square.find('4')\n",
    "    #when found, edit index with a deciaml point before the index\n",
    "    output_square = square[:index] + '.' + square[index:]\n",
    "    #print full string\n",
    "    print(output_square)"
   ]
  },
  {
   "cell_type": "code",
   "execution_count": 175,
   "metadata": {},
   "outputs": [
    {
     "name": "stdout",
     "output_type": "stream",
     "text": [
      "The square root of 2.000 is 1.414\n",
      "1.4142135623730950488016887242096980785696718753769480731766797379907324784621070388503875343276415727\n"
     ]
    }
   ],
   "source": [
    "sqrt2()"
   ]
  },
  {
   "cell_type": "markdown",
   "metadata": {},
   "source": [
    "# Task 2"
   ]
  },
  {
   "cell_type": "markdown",
   "metadata": {},
   "source": [
    "In this task we are asked to use Scipy.stats to varify 24.6 as being chi squared, and calculate the associated p value. The chi-squared test is used to determine whether there is a significant difference between the expected frequencies and the observed frequencies in one or more categories."
   ]
  },
  {
   "cell_type": "markdown",
   "metadata": {},
   "source": [
    "[1]: https://www.w3schools.com/python/python_lists.asp  \n",
    "[2]: https://www.pythoncentral.io/the-difference-between-a-list-and-an-array/#:~:text=The%20main%20difference%20between%20a,you%20can%20perform%20to%20them.&text=It%20does%20take%20an%20extra,fine%20most%20of%20the%20time.  \n",
    "[3]: https://stackoverflow.com/questions/39497519/easiest-way-to-make-data-frames-in-python-without-pandas-package  \n",
    "[4] https://pythonhealthcare.org/2018/04/13/58-statistics-chi-squared-test/\n",
    "[5] http://hplgit.github.io/primer.html/doc/pub/looplist/._looplist-bootstrap004.html"
   ]
  },
  {
   "cell_type": "code",
   "execution_count": 176,
   "metadata": {},
   "outputs": [
    {
     "name": "stdout",
     "output_type": "stream",
     "text": [
      "The Chi-squared value\n",
      "24.6\n",
      "\n",
      "P value for effect of area on proportion of each collar: \n",
      "0.0004098425861096696\n",
      "\n",
      "Expected numbers if area did not effect proportion of each collar:\n",
      "[[ 80.53846154  80.53846154 107.38461538  80.53846154]\n",
      " [ 34.84615385  34.84615385  46.46153846  34.84615385]\n",
      " [ 34.61538462  34.61538462  46.15384615  34.61538462]]\n"
     ]
    }
   ],
   "source": [
    "#import of libraries\n",
    "import scipy.stats as stats\n",
    "\n",
    "#initialising a dataset witht he wikiperdia articles's table\n",
    "data = [[90, 60, 104, 95], [30, 50, 51, 20], [30,40,45,35]]\n",
    "\n",
    "V, p, dof, expected = stats.chi2_contingency(data) \n",
    "print('The Chi-squared value')\n",
    "print (\"%.1f\" %V)\n",
    "print('\\nP value for effect of area on proportion of each collar: ')\n",
    "print (p)\n",
    "print ('\\nExpected numbers if area did not effect proportion of each collar:')\n",
    "print (expected)"
   ]
  },
  {
   "cell_type": "markdown",
   "metadata": {},
   "source": [
    "## Task 3"
   ]
  },
  {
   "cell_type": "markdown",
   "metadata": {},
   "source": [
    "This task involves researching STDEV.P and STDEV.S\n",
    "Both of these functions are stanmdard deviation calculations. They both use a very similar function, with a little change. I am tasked with finding the difference between these functions and demostrating that the STDEV.S function is better for estimating the standard deviation of a population."
   ]
  },
  {
   "cell_type": "markdown",
   "metadata": {},
   "source": [
    "Standard deviation is a measure of the amount of variatioin of a set of values. It is a measure of how far each observed value is from the mean."
   ]
  },
  {
   "cell_type": "code",
   "execution_count": 177,
   "metadata": {},
   "outputs": [
    {
     "name": "stdout",
     "output_type": "stream",
     "text": [
      "27.706316969240063\n"
     ]
    }
   ],
   "source": [
    "#STDEV\n",
    "import numpy as np\n",
    "\n",
    "x = ([44,16,90,28,41,95,19,88,9,3,13,78,43,44,6,48,60,60,38,45])\n",
    "answer = np.sqrt(np.sum((x - np.mean(x))**2)/len(x))\n",
    "print(answer)"
   ]
  },
  {
   "cell_type": "code",
   "execution_count": 178,
   "metadata": {},
   "outputs": [
    {
     "name": "stdout",
     "output_type": "stream",
     "text": [
      "33.50835716653384\n"
     ]
    }
   ],
   "source": [
    "#STDEV.P\n",
    "import numpy as np\n",
    "\n",
    "x = ([44,16,90,28,41,95,19,88,9,3])\n",
    "answer = np.sqrt(np.sum((x - np.mean(x))**2)/len(x))\n",
    "print(answer)"
   ]
  },
  {
   "cell_type": "code",
   "execution_count": 179,
   "metadata": {},
   "outputs": [
    {
     "name": "stdout",
     "output_type": "stream",
     "text": [
      "33.49343219199848\n"
     ]
    }
   ],
   "source": [
    "#STDEV.S\n",
    "import numpy as np\n",
    "\n",
    "x = ([44,16,90,28,41,95,19,88,9,3])\n",
    "answer = np.sqrt(np.sum((x - np.mean(x))**2)/len(x)-1)\n",
    "print(answer)"
   ]
  },
  {
   "cell_type": "code",
   "execution_count": 180,
   "metadata": {},
   "outputs": [
    {
     "name": "stdout",
     "output_type": "stream",
     "text": [
      "43.4\n"
     ]
    }
   ],
   "source": [
    "#Mean\n",
    "import numpy as np\n",
    "\n",
    "x = ([44,16,90,28,41,95,19,88,9,3,13,78,43,44,6,48,60,60,38,45])\n",
    "\n",
    "mean = np.mean(x) \n",
    "print(mean)"
   ]
  },
  {
   "cell_type": "markdown",
   "metadata": {},
   "source": [
    "## STDEV.P\n",
    "This function calculate the standard deviation for a sample set of data. It calulates the standard deviation using the \"n\" method, ignoring logical values and text. STDEV.P replaces the STDEVP function, with identical behavior. Although STDEV still exists for backwards compatibility, Microsoft recommmend that people use the newer STDEV.S funciton.\n",
    "Numbers are supplied as arguments. They can be supplied as actual numbers, ranges, arrays, or references that contain numbers.\n",
    "https://exceljet.net/excel-functions/excel-stdev.p-function"
   ]
  },
  {
   "cell_type": "markdown",
   "metadata": {},
   "source": [
    "## STDEV.S\n",
    "This function calculates the standard deviation from a sample set of data. STDEV.S replaces the old STDEV function, but has a similar behavior. Although STDEV still exists for backwards compatibility, Microsoft recommmend that people use the newer STDEV.S funciton. The STDEV.S function is meant to estimate the standard deviation in a sample. If data represents the entire population, use the STDEV.P function.\n",
    "https://exceljet.net/excel-functions/excel-stdev.s-function\n",
    "It calculates standard deviation using the \"n-1\" method. STDEV.S ignores empty cells, logical values, and text that appears in supplied references. STDEV.S will evaluate text and logical values hardcoded as function arguments.\n",
    "To evaluate these values use the STDEVA function."
   ]
  },
  {
   "cell_type": "markdown",
   "metadata": {},
   "source": [
    "# Task 4"
   ]
  },
  {
   "cell_type": "markdown",
   "metadata": {},
   "source": [
    "In this task we are required to use Scikit-learn to apply k-means clustering to Fisher's Iris data set."
   ]
  },
  {
   "cell_type": "code",
   "execution_count": 181,
   "metadata": {},
   "outputs": [],
   "source": [
    "#importing the libraries\n",
    "from sklearn.cluster import KMeans\n",
    "import sklearn.cluster as skcl\n",
    "import numpy as np\n",
    "import matplotlib.pyplot as plt\n",
    "import pandas as pd"
   ]
  },
  {
   "cell_type": "code",
   "execution_count": 182,
   "metadata": {},
   "outputs": [
    {
     "data": {
      "text/plain": [
       "(1.8, 4.8)"
      ]
     },
     "execution_count": 182,
     "metadata": {},
     "output_type": "execute_result"
    },
    {
     "data": {
      "image/png": "[encoded data removed]",
      "text/plain": [
       "<Figure size 432x288 with 1 Axes>"
      ]
     },
     "metadata": {
      "needs_background": "light"
     },
     "output_type": "display_data"
    }
   ],
   "source": [
    "#reading in the iris.csv from c drive\n",
    "Iris = pd.read_csv('C:/Users/Owner/Downloads/iris_csv.csv')\n",
    "#Data set\n",
    "x1 = np.array(Iris['sepallength'])\n",
    "x2 = np.array(Iris['sepalwidth'])\n",
    "c1p = np.vstack([x1, x2]).T\n",
    "x3 = np.array(Iris['petalwidth'])\n",
    "x4 = np.array(Iris['petallength'])\n",
    "c2 = np.vstack([x3, x4]).T\n",
    "\n",
    "mystuff = np.concatenate([c1p, c2])\n",
    "#plt.plot(x1,x2,x3,x4)\n",
    "plt.plot(mystuff[:,0], mystuff[:,1], 'x')\n",
    "#plt.title('dataset')\n",
    "#plt.scatter(x1,x2)\n",
    "#plt.show()\n",
    "# Set reasonable limits.\n",
    "plt.xlim([4, 8.2])\n",
    "plt.ylim([1.8,4.8])"
   ]
  },
  {
   "cell_type": "code",
   "execution_count": 183,
   "metadata": {},
   "outputs": [],
   "source": [
    "# Perform kmeans fitting.\n",
    "kmeans = skcl.KMeans(n_clusters=3, random_state=0).fit(X)"
   ]
  },
  {
   "cell_type": "code",
   "execution_count": 184,
   "metadata": {},
   "outputs": [
    {
     "data": {
      "text/plain": [
       "array([0, 0, 0, 0, 0, 0, 0, 0, 0, 0, 0, 0, 0, 0, 0, 0, 0, 0, 0, 0, 0, 0,\n",
       "       0, 0, 0, 0, 0, 0, 0, 0, 0, 0, 0, 0, 0, 0, 0, 0, 0, 0, 0, 0, 0, 0,\n",
       "       0, 0, 0, 0, 0, 0, 1, 1, 1, 2, 1, 2, 1, 2, 1, 2, 2, 2, 2, 2, 2, 1,\n",
       "       2, 2, 2, 2, 2, 2, 2, 2, 1, 1, 1, 1, 2, 2, 2, 2, 2, 2, 2, 2, 1, 2,\n",
       "       2, 2, 2, 2, 2, 2, 2, 2, 2, 2, 2, 2, 1, 2, 1, 1, 1, 1, 2, 1, 1, 1,\n",
       "       1, 1, 1, 2, 2, 1, 1, 1, 1, 2, 1, 2, 1, 2, 1, 1, 2, 2, 1, 1, 1, 1,\n",
       "       1, 2, 2, 1, 1, 1, 2, 1, 1, 1, 2, 1, 1, 1, 2, 1, 1, 2])"
      ]
     },
     "execution_count": 184,
     "metadata": {},
     "output_type": "execute_result"
    }
   ],
   "source": [
    "# See the labels of the points.\n",
    "kmeans.labels_"
   ]
  },
  {
   "cell_type": "code",
   "execution_count": 185,
   "metadata": {},
   "outputs": [
    {
     "data": {
      "image/png": "[encoded data removed]",
      "text/plain": [
       "<Figure size 432x288 with 1 Axes>"
      ]
     },
     "metadata": {
      "needs_background": "light"
     },
     "output_type": "display_data"
    }
   ],
   "source": [
    "X = np.array(list(zip(x1, x2)))\n",
    "colors = ['brown', 'g', 'r']\n",
    "markers = ['d', 'v', '*']\n",
    "plt.ylabel('Length')\n",
    "plt.xlabel('Width')\n",
    "\n",
    "kmeans = KMeans(n_clusters=3).fit(X)\n",
    "plt.scatter(kmeans.cluster_centers_[:, 0], kmeans.cluster_centers_[:, 1], s = 200, c = 'blue', label = 'Centers')\n",
    "\n",
    "plt.xlim([4, 8.2])\n",
    "plt.ylim([1.8,4.8])\n",
    "\n",
    "for i, l in enumerate(kmeans.labels_):\n",
    "    plt.plot(x1[i], x2[i], color=colors[l], marker=markers[l])\n",
    "    \n",
    "plt.legend()\n",
    "plt.show()"
   ]
  },
  {
   "cell_type": "code",
   "execution_count": 186,
   "metadata": {},
   "outputs": [
    {
     "data": {
      "text/plain": [
       "array([[4.        , 5.        ],\n",
       "       [4.42857143, 4.85714286],\n",
       "       [4.85714286, 4.71428571],\n",
       "       [5.28571429, 4.57142857],\n",
       "       [5.71428571, 4.42857143],\n",
       "       [6.14285714, 4.28571429],\n",
       "       [6.57142857, 4.14285714],\n",
       "       [7.        , 4.        ]])"
      ]
     },
     "execution_count": 186,
     "metadata": {},
     "output_type": "execute_result"
    }
   ],
   "source": [
    "# Create new dummy points for classification.\n",
    "# mynewvals = np.array([[0, 0], [6, 10]])\n",
    "#myxvals = np.linspace(4.0, 7.0, 8)\n",
    "#myyvals = np.linspace(4.0, 5.0, 8)\n",
    "#myxvals2 = np.linspace(4.0, 6.0, 8)\n",
    "#myyvals2 = np.linspace(4.0, 4.0, 8)\n",
    "#mynewvals = np.vstack([myxvals, myyvals,myxvals2, myyvals2]).T\n",
    "#mynewvals\n",
    "# Create new dummy points for classification.\n",
    "myxvals = np.linspace(4.0, 7.0, 8)\n",
    "myyvals = np.linspace(5.0, 4.0, 8)\n",
    "#myxvals2 = np.linspace(4.0, 6.0, 8)\n",
    "#myyvals2 = np.linspace(4.0, 4.0, 8)\n",
    "mynewvals = np.vstack([myxvals, myyvals]).T\n",
    "mynewvals"
   ]
  },
  {
   "cell_type": "code",
   "execution_count": 187,
   "metadata": {},
   "outputs": [
    {
     "data": {
      "text/plain": [
       "array([0, 0, 0, 0, 0, 1, 1, 1])"
      ]
     },
     "execution_count": 187,
     "metadata": {},
     "output_type": "execute_result"
    }
   ],
   "source": [
    "# Predict the cluster for two points.\n",
    "mypredictions = kmeans.predict(mynewvals)\n",
    "mypredictions"
   ]
  },
  {
   "cell_type": "code",
   "execution_count": 188,
   "metadata": {},
   "outputs": [
    {
     "data": {
      "image/png": "[encoded data removed]",
      "text/plain": [
       "<Figure size 432x288 with 1 Axes>"
      ]
     },
     "metadata": {
      "needs_background": "light"
     },
     "output_type": "display_data"
    }
   ],
   "source": [
    "# Plot the data set.\n",
    "plt.xlim([3.5, 8.2])\n",
    "plt.ylim([1.8,6])\n",
    "plt.plot(mynewvals[mypredictions == 0][:,0], mynewvals[mypredictions == 0][:,1], 'go')\n",
    "plt.plot(mynewvals[mypredictions == 1][:,0], mynewvals[mypredictions == 1][:,1], 'rd')\n",
    "plt.plot(mynewvals[mypredictions == 2][:,0], mynewvals[mypredictions == 2][:,1], 'bo')\n",
    "for i, l in enumerate(kmeans.labels_):\n",
    "    plt.plot(x1[i], x2[i], color=colors[l], marker=markers[l])"
   ]
  },
  {
   "cell_type": "code",
   "execution_count": 189,
   "metadata": {},
   "outputs": [
    {
     "data": {
      "text/plain": [
       "array([[5.006     , 3.418     ],\n",
       "       [6.81276596, 3.07446809],\n",
       "       [5.77358491, 2.69245283]])"
      ]
     },
     "execution_count": 189,
     "metadata": {},
     "output_type": "execute_result"
    }
   ],
   "source": [
    "# The centres of clusters.\n",
    "mycent = kmeans.cluster_centers_\n",
    "mycent"
   ]
  },
  {
   "cell_type": "code",
   "execution_count": 190,
   "metadata": {
    "scrolled": true
   },
   "outputs": [
    {
     "data": {
      "image/png": "[encoded data removed]",
      "text/plain": [
       "<Figure size 432x288 with 1 Axes>"
      ]
     },
     "metadata": {
      "needs_background": "light"
     },
     "output_type": "display_data"
    }
   ],
   "source": [
    "# Plot the data set.\n",
    "plt.xlim([3.5, 8.2])\n",
    "plt.ylim([1.8,6])\n",
    "plt.plot(mynewvals[mypredictions == 0][:,0], mynewvals[mypredictions == 0][:,1], 'go')\n",
    "plt.plot(mynewvals[mypredictions == 1][:,0], mynewvals[mypredictions == 1][:,1], 'rd')\n",
    "plt.plot(mynewvals[mypredictions == 2][:,0], mynewvals[mypredictions == 2][:,1], 'bo')\n",
    "plt.scatter(mycent[:,0], mycent[:,1], s = 200, c = 'blue', label = 'Centers')\n",
    "for i, l in enumerate(kmeans.labels_):\n",
    "    plt.plot(x1[i], x2[i], color=colors[l], marker=markers[l])\n",
    "plt.show()"
   ]
  },
  {
   "cell_type": "markdown",
   "metadata": {},
   "source": [
    "<hr>"
   ]
  },
  {
   "cell_type": "markdown",
   "metadata": {},
   "source": [
    "# END"
   ]
  }
 ],
 "metadata": {
  "kernelspec": {
   "display_name": "Python 3",
   "language": "python",
   "name": "python3"
  },
  "language_info": {
   "codemirror_mode": {
    "name": "ipython",
    "version": 3
   },
   "file_extension": ".py",
   "mimetype": "text/x-python",
   "name": "python",
   "nbconvert_exporter": "python",
   "pygments_lexer": "ipython3",
   "version": "3.8.5"
  }
 },
 "nbformat": 4,
 "nbformat_minor": 4
}

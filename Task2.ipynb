{
 "cells": [
  {
   "cell_type": "markdown",
   "metadata": {},
   "source": [
    "# Task 2"
   ]
  },
  {
   "cell_type": "markdown",
   "metadata": {},
   "source": [
    "Use Scipy.stats to varify 24.6 as being chi squared, and calculate the associated p value  \n",
    "[1]: https://www.w3schools.com/python/python_lists.asp  \n",
    "[2]: https://www.pythoncentral.io/the-difference-between-a-list-and-an-array/#:~:text=The%20main%20difference%20between%20a,you%20can%20perform%20to%20them.&text=It%20does%20take%20an%20extra,fine%20most%20of%20the%20time.  \n",
    "[3]: https://stackoverflow.com/questions/39497519/easiest-way-to-make-data-frames-in-python-without-pandas-package  \n"
   ]
  },
  {
   "cell_type": "code",
   "execution_count": 11,
   "metadata": {},
   "outputs": [
    {
     "name": "stdout",
     "output_type": "stream",
     "text": [
      "24.6\n",
      "0.0004098425861096696\n",
      "[[ 80.53846154  80.53846154 107.38461538  80.53846154]\n",
      " [ 34.84615385  34.84615385  46.46153846  34.84615385]\n",
      " [ 34.61538462  34.61538462  46.15384615  34.61538462]]\n"
     ]
    }
   ],
   "source": [
    "import scipy.stats as stats\n",
    "\n",
    "data = [[90, 60, 104, 95], [30, 50, 51, 20], [30,40,45,35]]\n",
    "\n",
    "V, p, dof, expected = stats.chi2_contingency(data) \n",
    "print (\"%.1f\" %V)\n",
    "print (p)\n",
    "print (expected)"
   ]
  },
  {
   "cell_type": "code",
   "execution_count": null,
   "metadata": {},
   "outputs": [],
   "source": []
  }
 ],
 "metadata": {
  "kernelspec": {
   "display_name": "Python 3",
   "language": "python",
   "name": "python3"
  },
  "language_info": {
   "codemirror_mode": {
    "name": "ipython",
    "version": 3
   },
   "file_extension": ".py",
   "mimetype": "text/x-python",
   "name": "python",
   "nbconvert_exporter": "python",
   "pygments_lexer": "ipython3",
   "version": "3.8.3"
  }
 },
 "nbformat": 4,
 "nbformat_minor": 4
}
